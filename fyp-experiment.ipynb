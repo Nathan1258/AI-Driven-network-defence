{
 "cells": [
  {
   "cell_type": "code",
   "execution_count": null,
   "id": "921ac00e",
   "metadata": {
    "_cell_guid": "2beb5fab-80d8-40e8-a290-68b849330379",
    "_uuid": "4e2f08a9-7f88-4007-9e3a-fcf25a11fb61",
    "collapsed": false,
    "execution": {
     "iopub.execute_input": "2024-04-11T21:05:48.443725Z",
     "iopub.status.busy": "2024-04-11T21:05:48.443114Z",
     "iopub.status.idle": "2024-04-11T21:05:51.505957Z",
     "shell.execute_reply": "2024-04-11T21:05:51.504513Z"
    },
    "jupyter": {
     "outputs_hidden": false
    },
    "papermill": {
     "duration": 3.074991,
     "end_time": "2024-04-11T21:05:51.508650",
     "exception": false,
     "start_time": "2024-04-11T21:05:48.433659",
     "status": "completed"
    },
    "tags": []
   },
   "outputs": [],
   "source": [
    "import sklearn\n",
    "import pandas as pd\n",
    "from sklearn.model_selection import train_test_split\n",
    "from sklearn.ensemble import RandomForestClassifier\n",
    "from sklearn.discriminant_analysis import LinearDiscriminantAnalysis as LDA\n",
    "from sklearn.metrics import accuracy_score, confusion_matrix"
   ]
  },
  {
   "cell_type": "markdown",
   "id": "4c37105a",
   "metadata": {
    "_cell_guid": "855c5572-5028-4116-8381-224245e8be8e",
    "_uuid": "a0ec32dc-bf20-4fe0-832d-750cea07cc0a",
    "papermill": {
     "duration": 0.006014,
     "end_time": "2024-04-11T21:05:51.521553",
     "exception": false,
     "start_time": "2024-04-11T21:05:51.515539",
     "status": "completed"
    },
    "tags": []
   },
   "source": [
    "# **Normal dataset**"
   ]
  },
  {
   "cell_type": "code",
   "execution_count": null,
   "id": "3a077a3e",
   "metadata": {
    "_cell_guid": "6d824fef-6adc-4703-895f-97dffdb456eb",
    "_uuid": "33921d03-ac66-4199-ba73-7991796825f9",
    "collapsed": false,
    "execution": {
     "iopub.execute_input": "2024-04-11T21:05:51.536316Z",
     "iopub.status.busy": "2024-04-11T21:05:51.535763Z",
     "iopub.status.idle": "2024-04-11T21:05:51.541556Z",
     "shell.execute_reply": "2024-04-11T21:05:51.540206Z"
    },
    "jupyter": {
     "outputs_hidden": false
    },
    "papermill": {
     "duration": 0.016252,
     "end_time": "2024-04-11T21:05:51.544126",
     "exception": false,
     "start_time": "2024-04-11T21:05:51.527874",
     "status": "completed"
    },
    "tags": []
   },
   "outputs": [],
   "source": [
    "# NORMAL DATASET\n",
    "# columns = ['Duration', 'Origin_Bytes', 'Response_Bytes','Origin_Packets', 'Origin_IP_Bytes', 'Response_Packets', 'Response_IP_Bytes', \n",
    "#            'Protocol_icmp', 'Protocol_tcp', 'Protocol_udp','Connection_State_OTH', 'Connection_State_REJ', 'Connection_State_RSTO',\n",
    "#            'Connection_State_RSTOS0', 'Connection_State_RSTR','Connection_State_RSTRH', 'Connection_State_S0', 'Connection_State_S1',\n",
    "#            'Connection_State_S2', 'Connection_State_S3', 'Connection_State_SF','Connection_State_SHR', 'Attack_Type']\n",
    "# normal = pd.read_csv('/kaggle/input/final-fyp-datasets/normal.csv', usecols=columns)"
   ]
  },
  {
   "cell_type": "markdown",
   "id": "2f9c4ff2",
   "metadata": {
    "_cell_guid": "153708ed-b41c-4d89-a8cd-92fc3e845469",
    "_uuid": "b66cafe6-5352-417b-91e4-481b6465051f",
    "papermill": {
     "duration": 0.005985,
     "end_time": "2024-04-11T21:05:51.556602",
     "exception": false,
     "start_time": "2024-04-11T21:05:51.550617",
     "status": "completed"
    },
    "tags": []
   },
   "source": [
    "# **Oversampled dataset**"
   ]
  },
  {
   "cell_type": "code",
   "execution_count": null,
   "id": "f875e4a7",
   "metadata": {
    "_cell_guid": "deab0e19-32bc-4d91-92fd-b6703e5a5ac5",
    "_uuid": "e3a4172d-ea25-4580-adb2-c2eff515e74b",
    "collapsed": false,
    "execution": {
     "iopub.execute_input": "2024-04-11T21:05:51.571065Z",
     "iopub.status.busy": "2024-04-11T21:05:51.570629Z",
     "iopub.status.idle": "2024-04-11T21:09:36.172405Z",
     "shell.execute_reply": "2024-04-11T21:09:36.170098Z"
    },
    "jupyter": {
     "outputs_hidden": false
    },
    "papermill": {
     "duration": 224.615077,
     "end_time": "2024-04-11T21:09:36.177955",
     "exception": false,
     "start_time": "2024-04-11T21:05:51.562878",
     "status": "completed"
    },
    "tags": []
   },
   "outputs": [],
   "source": [
    "# OVERSAMPLED DATASET\n",
    "# columns = ['Duration', 'Origin_Bytes', 'Response_Bytes','Origin_Packets', 'Origin_IP_Bytes', 'Response_Packets', 'Response_IP_Bytes', \n",
    "#            'Protocol_icmp', 'Protocol_tcp', 'Protocol_udp','Connection_State_OTH', 'Connection_State_REJ', 'Connection_State_RSTO',\n",
    "#            'Connection_State_RSTOS0', 'Connection_State_RSTR','Connection_State_RSTRH', 'Connection_State_S0', 'Connection_State_S1',\n",
    "#            'Connection_State_S2', 'Connection_State_S3', 'Connection_State_SF','Connection_State_SHR', 'Attack_Type']\n",
    "columns = ['Duration', 'Origin_Packets','Protocol_icmp', 'Protocol_tcp', 'Protocol_udp','Connection_State_OTH', 'Connection_State_REJ', 'Connection_State_RSTO',\n",
    "           'Connection_State_RSTOS0', 'Connection_State_RSTR','Connection_State_RSTRH', 'Connection_State_S0', 'Connection_State_S1',\n",
    "           'Connection_State_S2', 'Connection_State_S3', 'Connection_State_SF','Connection_State_SHR', 'Attack_Type']\n",
    "# columns = ['Duration', 'Origin_Bytes', 'Response_Bytes','Origin_Packets', 'Origin_IP_Bytes', 'Response_Packets', 'Response_IP_Bytes', 'Attack_Type']\n",
    "oversampled = pd.read_csv('/kaggle/input/final-fyp-datasets/oversampled.csv', usecols=columns)"
   ]
  },
  {
   "cell_type": "markdown",
   "id": "81b58a57",
   "metadata": {
    "papermill": {
     "duration": 0.006546,
     "end_time": "2024-04-11T21:09:36.193731",
     "exception": false,
     "start_time": "2024-04-11T21:09:36.187185",
     "status": "completed"
    },
    "tags": []
   },
   "source": [
    "# Subset of data"
   ]
  },
  {
   "cell_type": "code",
   "execution_count": null,
   "id": "08b2dd2c",
   "metadata": {
    "execution": {
     "iopub.execute_input": "2024-04-11T21:09:36.209582Z",
     "iopub.status.busy": "2024-04-11T21:09:36.209099Z",
     "iopub.status.idle": "2024-04-11T21:14:03.323619Z",
     "shell.execute_reply": "2024-04-11T21:14:03.322267Z"
    },
    "papermill": {
     "duration": 267.127081,
     "end_time": "2024-04-11T21:14:03.327177",
     "exception": false,
     "start_time": "2024-04-11T21:09:36.200096",
     "status": "completed"
    },
    "tags": []
   },
   "outputs": [],
   "source": [
    "Y = oversampled[\"Attack_Type\"]\n",
    "X = oversampled.drop([\"Attack_Type\"], axis=1)\n",
    "X_subset, _, Y_subset, _ = train_test_split(X, Y, test_size=0.50, stratify=Y)\n",
    "X_train, X_test, Y_train, Y_test = train_test_split(X_subset, Y_subset, test_size=0.25, stratify=Y_subset)\n",
    "del Y\n",
    "del X\n",
    "del oversampled\n",
    "del X_subset\n",
    "del Y_subset"
   ]
  },
  {
   "cell_type": "code",
   "execution_count": null,
   "id": "c2e44689",
   "metadata": {
    "execution": {
     "iopub.execute_input": "2024-04-11T21:14:03.349185Z",
     "iopub.status.busy": "2024-04-11T21:14:03.348757Z",
     "iopub.status.idle": "2024-04-11T21:14:03.355207Z",
     "shell.execute_reply": "2024-04-11T21:14:03.353721Z"
    },
    "papermill": {
     "duration": 0.016845,
     "end_time": "2024-04-11T21:14:03.357760",
     "exception": false,
     "start_time": "2024-04-11T21:14:03.340915",
     "status": "completed"
    },
    "tags": []
   },
   "outputs": [],
   "source": [
    "# from sklearn.ensemble import RandomForestClassifier\n",
    "# import numpy as np\n",
    "\n",
    "# rf_model = RandomForestClassifier(n_estimators=25, verbose=2, n_jobs=-1) \n",
    "# rf_model.fit(X_train, Y_train)\n",
    "\n",
    "# importances = rf_model.feature_importances_\n",
    "# std = np.std([tree.feature_importances_ for tree in rf_model.estimators_], axis=0)\n",
    "\n",
    "# aggregated_importances = {}\n",
    "# for i, feature in enumerate(X_train.columns):\n",
    "#     if feature.startswith('Protocol_') or feature.startswith('Connection_State_'):\n",
    "#         root_feature = feature.split('_')[0]\n",
    "#         aggregated_importances.setdefault(root_feature, 0)\n",
    "#         aggregated_importances[root_feature] += importances[i]\n",
    "#     else:\n",
    "#         aggregated_importances[feature] = importances[i]\n",
    "\n",
    "# print(\"Feature Ranking:\")\n",
    "# for feature, importance in sorted(aggregated_importances.items(), key=lambda item: item[1], reverse=True):\n",
    "#     print(\"%d. Feature %s (%f)\" % (len(aggregated_importances) - aggregated_importances.keys().index(feature), feature, importance))\n",
    "        \n",
    "# del rf_model\n",
    "# del importances\n",
    "# del std\n",
    "# del indices"
   ]
  },
  {
   "cell_type": "code",
   "execution_count": null,
   "id": "3b2376ce",
   "metadata": {
    "execution": {
     "iopub.execute_input": "2024-04-11T21:14:03.372759Z",
     "iopub.status.busy": "2024-04-11T21:14:03.372344Z",
     "iopub.status.idle": "2024-04-11T21:14:03.378356Z",
     "shell.execute_reply": "2024-04-11T21:14:03.377093Z"
    },
    "papermill": {
     "duration": 0.016594,
     "end_time": "2024-04-11T21:14:03.380900",
     "exception": false,
     "start_time": "2024-04-11T21:14:03.364306",
     "status": "completed"
    },
    "tags": []
   },
   "outputs": [],
   "source": [
    "# import matplotlib.pyplot as plt\n",
    "\n",
    "# # Sort for display\n",
    "# features = sorted(aggregated_importances, key=aggregated_importances.get, reverse=True)\n",
    "# importances = [aggregated_importances[feature] for feature in features]\n",
    "# print(features)\n",
    "\n",
    "# print(importances)\n",
    "# plt.figure(figsize=(10, 6))\n",
    "# plt.barh(features, importances)\n",
    "# plt.xlabel(\"Feature Importance\")\n",
    "# plt.ylabel(\"Feature\")\n",
    "# plt.title(\"Feature Ranking\")\n",
    "# plt.tight_layout()\n",
    "# plt.show()"
   ]
  },
  {
   "cell_type": "code",
   "execution_count": null,
   "id": "d7e93ec7",
   "metadata": {
    "_cell_guid": "d3fc7a61-34bb-4248-8abf-e6954798bc68",
    "_uuid": "4a7902d5-5089-4baf-a81f-b3d3de1cdc68",
    "collapsed": false,
    "execution": {
     "iopub.execute_input": "2024-04-11T21:14:03.395336Z",
     "iopub.status.busy": "2024-04-11T21:14:03.394912Z",
     "iopub.status.idle": "2024-04-11T21:14:03.400528Z",
     "shell.execute_reply": "2024-04-11T21:14:03.399349Z"
    },
    "jupyter": {
     "outputs_hidden": false
    },
    "papermill": {
     "duration": 0.01601,
     "end_time": "2024-04-11T21:14:03.403295",
     "exception": false,
     "start_time": "2024-04-11T21:14:03.387285",
     "status": "completed"
    },
    "tags": []
   },
   "outputs": [],
   "source": [
    "# lda = LDA()\n",
    "# lda.fit(X_train, Y_train)\n",
    "# X_train_lda = lda.transform(X_train)\n",
    "# X_test_lda = lda.transform(X_test)"
   ]
  },
  {
   "cell_type": "code",
   "execution_count": null,
   "id": "bcde8c7e",
   "metadata": {
    "execution": {
     "iopub.execute_input": "2024-04-11T21:14:03.418069Z",
     "iopub.status.busy": "2024-04-11T21:14:03.417636Z",
     "iopub.status.idle": "2024-04-11T21:14:03.423419Z",
     "shell.execute_reply": "2024-04-11T21:14:03.422267Z"
    },
    "papermill": {
     "duration": 0.016157,
     "end_time": "2024-04-11T21:14:03.425953",
     "exception": false,
     "start_time": "2024-04-11T21:14:03.409796",
     "status": "completed"
    },
    "tags": []
   },
   "outputs": [],
   "source": [
    "# import matplotlib.pyplot as plt\n",
    "\n",
    "# # Explained variance\n",
    "# print(f\"Explained Variance Ratio: {lda.explained_variance_ratio_}\")\n",
    "\n",
    "# # Scatter Plot\n",
    "# plt.figure()\n",
    "# colors = ['navy', 'turquoise', 'darkorange', 'red', 'yellow'] \n",
    "# for color, i, target_name in zip(colors, [0, 1, 2, 3, 4], set(Y_train)):\n",
    "#     plt.scatter(X_train_lda[Y_train == i, 0], X_train_lda[Y_train == i, 1], alpha=.8, color=color,\n",
    "#                 label=target_name)\n",
    "# plt.legend(loc='best', shadow=False, scatterpoints=1)\n",
    "# plt.title('LDA of Dataset')\n",
    "# plt.show()"
   ]
  },
  {
   "cell_type": "code",
   "execution_count": null,
   "id": "e4f5db30",
   "metadata": {
    "execution": {
     "iopub.execute_input": "2024-04-11T21:14:03.440634Z",
     "iopub.status.busy": "2024-04-11T21:14:03.440206Z",
     "iopub.status.idle": "2024-04-11T21:14:03.445351Z",
     "shell.execute_reply": "2024-04-11T21:14:03.444235Z"
    },
    "papermill": {
     "duration": 0.015276,
     "end_time": "2024-04-11T21:14:03.447774",
     "exception": false,
     "start_time": "2024-04-11T21:14:03.432498",
     "status": "completed"
    },
    "tags": []
   },
   "outputs": [],
   "source": [
    "# from sklearn.decomposition import PCA\n",
    "# pca = PCA(n_components=5)\n",
    "# X_train_pca = pca.fit_transform(X_train)\n",
    "# X_test_pca = pca.fit_transform(X_test)"
   ]
  },
  {
   "cell_type": "code",
   "execution_count": null,
   "id": "aaeb815d",
   "metadata": {
    "execution": {
     "iopub.execute_input": "2024-04-11T21:14:03.462788Z",
     "iopub.status.busy": "2024-04-11T21:14:03.461512Z",
     "iopub.status.idle": "2024-04-11T21:52:24.797415Z",
     "shell.execute_reply": "2024-04-11T21:52:24.795625Z"
    },
    "papermill": {
     "duration": 2301.348251,
     "end_time": "2024-04-11T21:52:24.802313",
     "exception": false,
     "start_time": "2024-04-11T21:14:03.454062",
     "status": "completed"
    },
    "tags": []
   },
   "outputs": [],
   "source": [
    "from sklearn.decomposition import FastICA\n",
    "ica = FastICA(n_components=None, random_state=42)  \n",
    "X_train_ica = ica.fit_transform(X_train)\n",
    "X_test_ica = ica.fit_transform(X_test)\n"
   ]
  },
  {
   "cell_type": "code",
   "execution_count": null,
   "id": "6051c391",
   "metadata": {
    "execution": {
     "iopub.execute_input": "2024-04-11T21:52:24.834303Z",
     "iopub.status.busy": "2024-04-11T21:52:24.833595Z",
     "iopub.status.idle": "2024-04-11T21:52:24.844640Z",
     "shell.execute_reply": "2024-04-11T21:52:24.843129Z"
    },
    "papermill": {
     "duration": 0.032057,
     "end_time": "2024-04-11T21:52:24.849579",
     "exception": false,
     "start_time": "2024-04-11T21:52:24.817522",
     "status": "completed"
    },
    "tags": []
   },
   "outputs": [],
   "source": [
    "# from sklearn.decomposition import KernelPCA\n",
    "# kpca = KernelPCA(kernel='linear', n_jobs=-1)  \n",
    "# X_train_kpca = kpca.fit_transform(X_train)\n",
    "# X_test_kpca = kpca.fit_transform(X_test)"
   ]
  },
  {
   "cell_type": "code",
   "execution_count": null,
   "id": "f45a20e7",
   "metadata": {
    "_cell_guid": "ba542fac-5842-455a-a608-bb32f2a0b495",
    "_uuid": "2b57d20b-f210-4d3c-80a8-35a49ccd378b",
    "collapsed": false,
    "execution": {
     "iopub.execute_input": "2024-04-11T21:52:24.881259Z",
     "iopub.status.busy": "2024-04-11T21:52:24.880557Z",
     "iopub.status.idle": "2024-04-11T22:02:53.937383Z",
     "shell.execute_reply": "2024-04-11T22:02:53.935875Z"
    },
    "jupyter": {
     "outputs_hidden": false
    },
    "papermill": {
     "duration": 629.076241,
     "end_time": "2024-04-11T22:02:53.940515",
     "exception": false,
     "start_time": "2024-04-11T21:52:24.864274",
     "status": "completed"
    },
    "tags": []
   },
   "outputs": [],
   "source": [
    "RFC = RandomForestClassifier(n_estimators=25, verbose=2, n_jobs=-1)\n",
    "RFC.fit(X_train_ica, Y_train)\n",
    "pre = RFC.predict(X_test_ica)\n",
    "\n",
    "accuracy = accuracy_score(Y_test, pre)\n",
    "print(\"Accuracy:\", accuracy)\n",
    "conf_matrix = confusion_matrix(Y_test, pre)"
   ]
  },
  {
   "cell_type": "code",
   "execution_count": null,
   "id": "c55c220e",
   "metadata": {
    "_cell_guid": "8d26a7bc-bb68-4d4b-a5c4-2a14d27b48e1",
    "_uuid": "9e8b9c4b-62ce-41ab-9da6-355ecabee7b5",
    "collapsed": false,
    "execution": {
     "iopub.execute_input": "2024-04-11T22:02:53.962541Z",
     "iopub.status.busy": "2024-04-11T22:02:53.961704Z",
     "iopub.status.idle": "2024-04-11T22:02:54.840986Z",
     "shell.execute_reply": "2024-04-11T22:02:54.839793Z"
    },
    "jupyter": {
     "outputs_hidden": false
    },
    "papermill": {
     "duration": 0.893516,
     "end_time": "2024-04-11T22:02:54.843832",
     "exception": false,
     "start_time": "2024-04-11T22:02:53.950316",
     "status": "completed"
    },
    "tags": []
   },
   "outputs": [],
   "source": [
    "import seaborn as sns\n",
    "import matplotlib.pyplot as plt\n",
    "\n",
    "f, ax=plt.subplots(figsize=(5,5))\n",
    "sns.heatmap(conf_matrix,annot=True,linewidths=0.5,linecolor=\"red\",fmt=\".0f\",ax=ax)\n",
    "plt.xlabel(\"y_pred\")\n",
    "plt.ylabel(\"y_true\")\n",
    "plt.show()"
   ]
  },
  {
   "cell_type": "code",
   "execution_count": null,
   "id": "ae1c0c0f",
   "metadata": {
    "_cell_guid": "79b3d25f-c48b-4982-82ea-4a7b7fc48b8a",
    "_uuid": "c81dc055-c5e1-4b31-a1f3-ec41f8a99e6c",
    "collapsed": false,
    "execution": {
     "iopub.execute_input": "2024-04-11T22:02:54.866574Z",
     "iopub.status.busy": "2024-04-11T22:02:54.866162Z",
     "iopub.status.idle": "2024-04-11T22:02:54.877665Z",
     "shell.execute_reply": "2024-04-11T22:02:54.876280Z"
    },
    "jupyter": {
     "outputs_hidden": false
    },
    "papermill": {
     "duration": 0.026246,
     "end_time": "2024-04-11T22:02:54.880596",
     "exception": false,
     "start_time": "2024-04-11T22:02:54.854350",
     "status": "completed"
    },
    "tags": []
   },
   "outputs": [],
   "source": [
    "precision = []\n",
    "recall = []\n",
    "f1_score = []\n",
    "\n",
    "for i in range(len(conf_matrix)):\n",
    "    tp = conf_matrix[i, i]\n",
    "    fp = sum(conf_matrix[:, i]) - tp\n",
    "    fn = sum(conf_matrix[i, :]) - tp\n",
    "    \n",
    "    # Calculate precision\n",
    "    precision.append(tp / (tp + fp))\n",
    "    \n",
    "    # Calculate recall\n",
    "    recall.append(tp / (tp + fn))\n",
    "    \n",
    "    # Calculate F1-score\n",
    "    f1_score.append(2 * (precision[i] * recall[i]) / (precision[i] + recall[i]))\n",
    "\n",
    "class_names = ['Benign', 'PartOfAHorizontalPortScan', 'DDoS', 'Okiru']\n",
    "\n",
    "    \n",
    "# Display precision, recall, and F1-score for each class\n",
    "for i in range(len(precision)):\n",
    "    print(f\"Class {class_names[i]}:\")\n",
    "    print(f\"  Precision: {precision[i]}\")\n",
    "    print(f\"  Recall: {recall[i]}\")\n",
    "    print(f\"  F1-score: {f1_score[i]}\")"
   ]
  }
 ],
 "metadata": {
  "kaggle": {
   "accelerator": "none",
   "dataSources": [
    {
     "datasetId": 4594103,
     "sourceId": 7837289,
     "sourceType": "datasetVersion"
    }
   ],
   "dockerImageVersionId": 30664,
   "isGpuEnabled": false,
   "isInternetEnabled": true,
   "language": "python",
   "sourceType": "notebook"
  },
  "kernelspec": {
   "display_name": "Python 3",
   "language": "python",
   "name": "python3"
  },
  "language_info": {
   "codemirror_mode": {
    "name": "ipython",
    "version": 3
   },
   "file_extension": ".py",
   "mimetype": "text/x-python",
   "name": "python",
   "nbconvert_exporter": "python",
   "pygments_lexer": "ipython3",
   "version": "3.10.13"
  },
  "papermill": {
   "default_parameters": {},
   "duration": 3431.229339,
   "end_time": "2024-04-11T22:02:56.433999",
   "environment_variables": {},
   "exception": null,
   "input_path": "__notebook__.ipynb",
   "output_path": "__notebook__.ipynb",
   "parameters": {},
   "start_time": "2024-04-11T21:05:45.204660",
   "version": "2.5.0"
  }
 },
 "nbformat": 4,
 "nbformat_minor": 5
}
